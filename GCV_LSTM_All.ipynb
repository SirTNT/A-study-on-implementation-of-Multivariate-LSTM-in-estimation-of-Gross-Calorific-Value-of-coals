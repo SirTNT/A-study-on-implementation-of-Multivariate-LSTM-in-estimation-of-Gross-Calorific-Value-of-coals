{
  "nbformat": 4,
  "nbformat_minor": 0,
  "metadata": {
    "colab": {
      "provenance": []
    },
    "kernelspec": {
      "name": "python3",
      "display_name": "Python 3"
    },
    "language_info": {
      "name": "python"
    }
  },
  "cells": [
    {
      "cell_type": "code",
      "metadata": {
        "id": "UO5iPQWqpKHZ"
      },
      "source": [
        "import numpy as np\n",
        "from tensorflow.keras.models import Sequential\n",
        "from tensorflow.keras .layers import LSTM\n",
        "from tensorflow.keras.layers import Dense, Dropout\n",
        "import pandas as pd\n",
        "from matplotlib import pyplot as plt\n",
        "from sklearn.preprocessing import MinMaxScaler\n",
        "from sklearn.model_selection import train_test_split\n",
        "from sklearn.metrics import r2_score, mean_squared_error, mean_absolute_error\n"
      ],
      "execution_count": null,
      "outputs": []
    },
    {
      "cell_type": "code",
      "metadata": {
        "id": "vDpuQIRWqs8-"
      },
      "source": [
        "df = pd.read_csv('GCV data.csv')"
      ],
      "execution_count": null,
      "outputs": []
    },
    {
      "cell_type": "code",
      "metadata": {
        "colab": {
          "base_uri": "https://localhost:8080/",
          "height": 206
        },
        "id": "jXMVSA0rqxSG",
        "outputId": "eeaee433-ef25-4bbc-d03a-0f00481ed3a3"
      },
      "source": [
        "df.head()"
      ],
      "execution_count": null,
      "outputs": [
        {
          "output_type": "execute_result",
          "data": {
            "text/plain": [
              "    CM    CA    Vm    FC    CC    CH    CS    CN    CO   qHe  \\\n",
              "0  6.0  38.0  26.3  29.7  41.9  3.29  0.26  0.89  53.7  1.75   \n",
              "1  5.8  41.1  23.9  29.2  40.2  2.87  0.18  0.56  56.2  1.81   \n",
              "2  7.5  34.0  26.2  32.3  45.8  3.26  0.29  0.71  50.0  1.71   \n",
              "3  7.6  32.4  22.5  37.5  45.4  2.81  0.26  0.85  50.7  1.75   \n",
              "4  8.3  32.5  27.0  32.2  43.5  3.19  0.87  0.81  51.7  1.66   \n",
              "\n",
              "   GCV (experimental) (MJ/kg)  \n",
              "0                       17.17  \n",
              "1                       15.53  \n",
              "2                       17.63  \n",
              "3                       17.48  \n",
              "4                       17.24  "
            ],
            "text/html": [
              "\n",
              "  <div id=\"df-965dc962-eab5-4acc-8307-82d0314d8f2a\" class=\"colab-df-container\">\n",
              "    <div>\n",
              "<style scoped>\n",
              "    .dataframe tbody tr th:only-of-type {\n",
              "        vertical-align: middle;\n",
              "    }\n",
              "\n",
              "    .dataframe tbody tr th {\n",
              "        vertical-align: top;\n",
              "    }\n",
              "\n",
              "    .dataframe thead th {\n",
              "        text-align: right;\n",
              "    }\n",
              "</style>\n",
              "<table border=\"1\" class=\"dataframe\">\n",
              "  <thead>\n",
              "    <tr style=\"text-align: right;\">\n",
              "      <th></th>\n",
              "      <th>CM</th>\n",
              "      <th>CA</th>\n",
              "      <th>Vm</th>\n",
              "      <th>FC</th>\n",
              "      <th>CC</th>\n",
              "      <th>CH</th>\n",
              "      <th>CS</th>\n",
              "      <th>CN</th>\n",
              "      <th>CO</th>\n",
              "      <th>qHe</th>\n",
              "      <th>GCV (experimental) (MJ/kg)</th>\n",
              "    </tr>\n",
              "  </thead>\n",
              "  <tbody>\n",
              "    <tr>\n",
              "      <th>0</th>\n",
              "      <td>6.0</td>\n",
              "      <td>38.0</td>\n",
              "      <td>26.3</td>\n",
              "      <td>29.7</td>\n",
              "      <td>41.9</td>\n",
              "      <td>3.29</td>\n",
              "      <td>0.26</td>\n",
              "      <td>0.89</td>\n",
              "      <td>53.7</td>\n",
              "      <td>1.75</td>\n",
              "      <td>17.17</td>\n",
              "    </tr>\n",
              "    <tr>\n",
              "      <th>1</th>\n",
              "      <td>5.8</td>\n",
              "      <td>41.1</td>\n",
              "      <td>23.9</td>\n",
              "      <td>29.2</td>\n",
              "      <td>40.2</td>\n",
              "      <td>2.87</td>\n",
              "      <td>0.18</td>\n",
              "      <td>0.56</td>\n",
              "      <td>56.2</td>\n",
              "      <td>1.81</td>\n",
              "      <td>15.53</td>\n",
              "    </tr>\n",
              "    <tr>\n",
              "      <th>2</th>\n",
              "      <td>7.5</td>\n",
              "      <td>34.0</td>\n",
              "      <td>26.2</td>\n",
              "      <td>32.3</td>\n",
              "      <td>45.8</td>\n",
              "      <td>3.26</td>\n",
              "      <td>0.29</td>\n",
              "      <td>0.71</td>\n",
              "      <td>50.0</td>\n",
              "      <td>1.71</td>\n",
              "      <td>17.63</td>\n",
              "    </tr>\n",
              "    <tr>\n",
              "      <th>3</th>\n",
              "      <td>7.6</td>\n",
              "      <td>32.4</td>\n",
              "      <td>22.5</td>\n",
              "      <td>37.5</td>\n",
              "      <td>45.4</td>\n",
              "      <td>2.81</td>\n",
              "      <td>0.26</td>\n",
              "      <td>0.85</td>\n",
              "      <td>50.7</td>\n",
              "      <td>1.75</td>\n",
              "      <td>17.48</td>\n",
              "    </tr>\n",
              "    <tr>\n",
              "      <th>4</th>\n",
              "      <td>8.3</td>\n",
              "      <td>32.5</td>\n",
              "      <td>27.0</td>\n",
              "      <td>32.2</td>\n",
              "      <td>43.5</td>\n",
              "      <td>3.19</td>\n",
              "      <td>0.87</td>\n",
              "      <td>0.81</td>\n",
              "      <td>51.7</td>\n",
              "      <td>1.66</td>\n",
              "      <td>17.24</td>\n",
              "    </tr>\n",
              "  </tbody>\n",
              "</table>\n",
              "</div>\n",
              "    <div class=\"colab-df-buttons\">\n",
              "\n",
              "  <div class=\"colab-df-container\">\n",
              "    <button class=\"colab-df-convert\" onclick=\"convertToInteractive('df-965dc962-eab5-4acc-8307-82d0314d8f2a')\"\n",
              "            title=\"Convert this dataframe to an interactive table.\"\n",
              "            style=\"display:none;\">\n",
              "\n",
              "  <svg xmlns=\"http://www.w3.org/2000/svg\" height=\"24px\" viewBox=\"0 -960 960 960\">\n",
              "    <path d=\"M120-120v-720h720v720H120Zm60-500h600v-160H180v160Zm220 220h160v-160H400v160Zm0 220h160v-160H400v160ZM180-400h160v-160H180v160Zm440 0h160v-160H620v160ZM180-180h160v-160H180v160Zm440 0h160v-160H620v160Z\"/>\n",
              "  </svg>\n",
              "    </button>\n",
              "\n",
              "  <style>\n",
              "    .colab-df-container {\n",
              "      display:flex;\n",
              "      gap: 12px;\n",
              "    }\n",
              "\n",
              "    .colab-df-convert {\n",
              "      background-color: #E8F0FE;\n",
              "      border: none;\n",
              "      border-radius: 50%;\n",
              "      cursor: pointer;\n",
              "      display: none;\n",
              "      fill: #1967D2;\n",
              "      height: 32px;\n",
              "      padding: 0 0 0 0;\n",
              "      width: 32px;\n",
              "    }\n",
              "\n",
              "    .colab-df-convert:hover {\n",
              "      background-color: #E2EBFA;\n",
              "      box-shadow: 0px 1px 2px rgba(60, 64, 67, 0.3), 0px 1px 3px 1px rgba(60, 64, 67, 0.15);\n",
              "      fill: #174EA6;\n",
              "    }\n",
              "\n",
              "    .colab-df-buttons div {\n",
              "      margin-bottom: 4px;\n",
              "    }\n",
              "\n",
              "    [theme=dark] .colab-df-convert {\n",
              "      background-color: #3B4455;\n",
              "      fill: #D2E3FC;\n",
              "    }\n",
              "\n",
              "    [theme=dark] .colab-df-convert:hover {\n",
              "      background-color: #434B5C;\n",
              "      box-shadow: 0px 1px 3px 1px rgba(0, 0, 0, 0.15);\n",
              "      filter: drop-shadow(0px 1px 2px rgba(0, 0, 0, 0.3));\n",
              "      fill: #FFFFFF;\n",
              "    }\n",
              "  </style>\n",
              "\n",
              "    <script>\n",
              "      const buttonEl =\n",
              "        document.querySelector('#df-965dc962-eab5-4acc-8307-82d0314d8f2a button.colab-df-convert');\n",
              "      buttonEl.style.display =\n",
              "        google.colab.kernel.accessAllowed ? 'block' : 'none';\n",
              "\n",
              "      async function convertToInteractive(key) {\n",
              "        const element = document.querySelector('#df-965dc962-eab5-4acc-8307-82d0314d8f2a');\n",
              "        const dataTable =\n",
              "          await google.colab.kernel.invokeFunction('convertToInteractive',\n",
              "                                                    [key], {});\n",
              "        if (!dataTable) return;\n",
              "\n",
              "        const docLinkHtml = 'Like what you see? Visit the ' +\n",
              "          '<a target=\"_blank\" href=https://colab.research.google.com/notebooks/data_table.ipynb>data table notebook</a>'\n",
              "          + ' to learn more about interactive tables.';\n",
              "        element.innerHTML = '';\n",
              "        dataTable['output_type'] = 'display_data';\n",
              "        await google.colab.output.renderOutput(dataTable, element);\n",
              "        const docLink = document.createElement('div');\n",
              "        docLink.innerHTML = docLinkHtml;\n",
              "        element.appendChild(docLink);\n",
              "      }\n",
              "    </script>\n",
              "  </div>\n",
              "\n",
              "\n",
              "<div id=\"df-b8211d4e-2597-4efd-bdaf-59a1a201b143\">\n",
              "  <button class=\"colab-df-quickchart\" onclick=\"quickchart('df-b8211d4e-2597-4efd-bdaf-59a1a201b143')\"\n",
              "            title=\"Suggest charts\"\n",
              "            style=\"display:none;\">\n",
              "\n",
              "<svg xmlns=\"http://www.w3.org/2000/svg\" height=\"24px\"viewBox=\"0 0 24 24\"\n",
              "     width=\"24px\">\n",
              "    <g>\n",
              "        <path d=\"M19 3H5c-1.1 0-2 .9-2 2v14c0 1.1.9 2 2 2h14c1.1 0 2-.9 2-2V5c0-1.1-.9-2-2-2zM9 17H7v-7h2v7zm4 0h-2V7h2v10zm4 0h-2v-4h2v4z\"/>\n",
              "    </g>\n",
              "</svg>\n",
              "  </button>\n",
              "\n",
              "<style>\n",
              "  .colab-df-quickchart {\n",
              "      --bg-color: #E8F0FE;\n",
              "      --fill-color: #1967D2;\n",
              "      --hover-bg-color: #E2EBFA;\n",
              "      --hover-fill-color: #174EA6;\n",
              "      --disabled-fill-color: #AAA;\n",
              "      --disabled-bg-color: #DDD;\n",
              "  }\n",
              "\n",
              "  [theme=dark] .colab-df-quickchart {\n",
              "      --bg-color: #3B4455;\n",
              "      --fill-color: #D2E3FC;\n",
              "      --hover-bg-color: #434B5C;\n",
              "      --hover-fill-color: #FFFFFF;\n",
              "      --disabled-bg-color: #3B4455;\n",
              "      --disabled-fill-color: #666;\n",
              "  }\n",
              "\n",
              "  .colab-df-quickchart {\n",
              "    background-color: var(--bg-color);\n",
              "    border: none;\n",
              "    border-radius: 50%;\n",
              "    cursor: pointer;\n",
              "    display: none;\n",
              "    fill: var(--fill-color);\n",
              "    height: 32px;\n",
              "    padding: 0;\n",
              "    width: 32px;\n",
              "  }\n",
              "\n",
              "  .colab-df-quickchart:hover {\n",
              "    background-color: var(--hover-bg-color);\n",
              "    box-shadow: 0 1px 2px rgba(60, 64, 67, 0.3), 0 1px 3px 1px rgba(60, 64, 67, 0.15);\n",
              "    fill: var(--button-hover-fill-color);\n",
              "  }\n",
              "\n",
              "  .colab-df-quickchart-complete:disabled,\n",
              "  .colab-df-quickchart-complete:disabled:hover {\n",
              "    background-color: var(--disabled-bg-color);\n",
              "    fill: var(--disabled-fill-color);\n",
              "    box-shadow: none;\n",
              "  }\n",
              "\n",
              "  .colab-df-spinner {\n",
              "    border: 2px solid var(--fill-color);\n",
              "    border-color: transparent;\n",
              "    border-bottom-color: var(--fill-color);\n",
              "    animation:\n",
              "      spin 1s steps(1) infinite;\n",
              "  }\n",
              "\n",
              "  @keyframes spin {\n",
              "    0% {\n",
              "      border-color: transparent;\n",
              "      border-bottom-color: var(--fill-color);\n",
              "      border-left-color: var(--fill-color);\n",
              "    }\n",
              "    20% {\n",
              "      border-color: transparent;\n",
              "      border-left-color: var(--fill-color);\n",
              "      border-top-color: var(--fill-color);\n",
              "    }\n",
              "    30% {\n",
              "      border-color: transparent;\n",
              "      border-left-color: var(--fill-color);\n",
              "      border-top-color: var(--fill-color);\n",
              "      border-right-color: var(--fill-color);\n",
              "    }\n",
              "    40% {\n",
              "      border-color: transparent;\n",
              "      border-right-color: var(--fill-color);\n",
              "      border-top-color: var(--fill-color);\n",
              "    }\n",
              "    60% {\n",
              "      border-color: transparent;\n",
              "      border-right-color: var(--fill-color);\n",
              "    }\n",
              "    80% {\n",
              "      border-color: transparent;\n",
              "      border-right-color: var(--fill-color);\n",
              "      border-bottom-color: var(--fill-color);\n",
              "    }\n",
              "    90% {\n",
              "      border-color: transparent;\n",
              "      border-bottom-color: var(--fill-color);\n",
              "    }\n",
              "  }\n",
              "</style>\n",
              "\n",
              "  <script>\n",
              "    async function quickchart(key) {\n",
              "      const quickchartButtonEl =\n",
              "        document.querySelector('#' + key + ' button');\n",
              "      quickchartButtonEl.disabled = true;  // To prevent multiple clicks.\n",
              "      quickchartButtonEl.classList.add('colab-df-spinner');\n",
              "      try {\n",
              "        const charts = await google.colab.kernel.invokeFunction(\n",
              "            'suggestCharts', [key], {});\n",
              "      } catch (error) {\n",
              "        console.error('Error during call to suggestCharts:', error);\n",
              "      }\n",
              "      quickchartButtonEl.classList.remove('colab-df-spinner');\n",
              "      quickchartButtonEl.classList.add('colab-df-quickchart-complete');\n",
              "    }\n",
              "    (() => {\n",
              "      let quickchartButtonEl =\n",
              "        document.querySelector('#df-b8211d4e-2597-4efd-bdaf-59a1a201b143 button');\n",
              "      quickchartButtonEl.style.display =\n",
              "        google.colab.kernel.accessAllowed ? 'block' : 'none';\n",
              "    })();\n",
              "  </script>\n",
              "</div>\n",
              "    </div>\n",
              "  </div>\n"
            ],
            "application/vnd.google.colaboratory.intrinsic+json": {
              "type": "dataframe",
              "variable_name": "df",
              "summary": "{\n  \"name\": \"df\",\n  \"rows\": 79,\n  \"fields\": [\n    {\n      \"column\": \"CM\",\n      \"properties\": {\n        \"dtype\": \"number\",\n        \"std\": 1.582829401006528,\n        \"min\": 0.8,\n        \"max\": 10.0,\n        \"num_unique_values\": 48,\n        \"samples\": [\n          8.1,\n          0.8,\n          9.0\n        ],\n        \"semantic_type\": \"\",\n        \"description\": \"\"\n      }\n    },\n    {\n      \"column\": \"CA\",\n      \"properties\": {\n        \"dtype\": \"number\",\n        \"std\": 8.790351479329626,\n        \"min\": 15.0,\n        \"max\": 60.8,\n        \"num_unique_values\": 70,\n        \"samples\": [\n          28.2,\n          38.0,\n          31.3\n        ],\n        \"semantic_type\": \"\",\n        \"description\": \"\"\n      }\n    },\n    {\n      \"column\": \"Vm\",\n      \"properties\": {\n        \"dtype\": \"number\",\n        \"std\": 2.5796214079287054,\n        \"min\": 15.7,\n        \"max\": 30.0,\n        \"num_unique_values\": 56,\n        \"samples\": [\n          26.3,\n          22.3,\n          24.1\n        ],\n        \"semantic_type\": \"\",\n        \"description\": \"\"\n      }\n    },\n    {\n      \"column\": \"FC\",\n      \"properties\": {\n        \"dtype\": \"number\",\n        \"std\": 7.1444860293217936,\n        \"min\": 16.9,\n        \"max\": 52.8,\n        \"num_unique_values\": 68,\n        \"samples\": [\n          37.8,\n          41.7,\n          32.2\n        ],\n        \"semantic_type\": \"\",\n        \"description\": \"\"\n      }\n    },\n    {\n      \"column\": \"CC\",\n      \"properties\": {\n        \"dtype\": \"number\",\n        \"std\": 7.706013366154439,\n        \"min\": 23.0,\n        \"max\": 62.5,\n        \"num_unique_values\": 70,\n        \"samples\": [\n          41.2,\n          41.9,\n          61.1\n        ],\n        \"semantic_type\": \"\",\n        \"description\": \"\"\n      }\n    },\n    {\n      \"column\": \"CH\",\n      \"properties\": {\n        \"dtype\": \"number\",\n        \"std\": 0.4510758533896463,\n        \"min\": 1.2,\n        \"max\": 3.78,\n        \"num_unique_values\": 44,\n        \"samples\": [\n          3.35,\n          3.02,\n          3.78\n        ],\n        \"semantic_type\": \"\",\n        \"description\": \"\"\n      }\n    },\n    {\n      \"column\": \"CS\",\n      \"properties\": {\n        \"dtype\": \"number\",\n        \"std\": 0.48302660694676075,\n        \"min\": 0.0,\n        \"max\": 2.2,\n        \"num_unique_values\": 33,\n        \"samples\": [\n          0.9,\n          0.34,\n          0.46\n        ],\n        \"semantic_type\": \"\",\n        \"description\": \"\"\n      }\n    },\n    {\n      \"column\": \"CN\",\n      \"properties\": {\n        \"dtype\": \"number\",\n        \"std\": 0.27061472089763405,\n        \"min\": 0.0,\n        \"max\": 1.6,\n        \"num_unique_values\": 36,\n        \"samples\": [\n          0.2,\n          1.12,\n          0.5\n        ],\n        \"semantic_type\": \"\",\n        \"description\": \"\"\n      }\n    },\n    {\n      \"column\": \"CO\",\n      \"properties\": {\n        \"dtype\": \"number\",\n        \"std\": 8.19494979893566,\n        \"min\": 32.0,\n        \"max\": 74.8,\n        \"num_unique_values\": 67,\n        \"samples\": [\n          50.9,\n          44.1,\n          51.7\n        ],\n        \"semantic_type\": \"\",\n        \"description\": \"\"\n      }\n    },\n    {\n      \"column\": \"qHe\",\n      \"properties\": {\n        \"dtype\": \"number\",\n        \"std\": 0.11275100024312878,\n        \"min\": 1.43,\n        \"max\": 1.92,\n        \"num_unique_values\": 38,\n        \"samples\": [\n          1.56,\n          1.43,\n          1.85\n        ],\n        \"semantic_type\": \"\",\n        \"description\": \"\"\n      }\n    },\n    {\n      \"column\": \"GCV (experimental) (MJ/kg)\",\n      \"properties\": {\n        \"dtype\": \"number\",\n        \"std\": 3.337748771463879,\n        \"min\": 8.84,\n        \"max\": 26.65,\n        \"num_unique_values\": 78,\n        \"samples\": [\n          18.14,\n          17.17,\n          22.59\n        ],\n        \"semantic_type\": \"\",\n        \"description\": \"\"\n      }\n    }\n  ]\n}"
            }
          },
          "metadata": {},
          "execution_count": 17
        }
      ]
    },
    {
      "cell_type": "code",
      "metadata": {
        "colab": {
          "base_uri": "https://localhost:8080/",
          "height": 206
        },
        "id": "yMWzWEG8KY8a",
        "outputId": "8973639f-c236-471f-e988-cb7d10fc3053"
      },
      "source": [
        "df.tail()"
      ],
      "execution_count": null,
      "outputs": [
        {
          "output_type": "execute_result",
          "data": {
            "text/plain": [
              "     CM    CA    Vm    FC    CC   CH   CS   CN    CO   qHe  \\\n",
              "74  7.1  29.0  28.1  35.8  50.4  3.1  1.5  1.1  43.9  1.52   \n",
              "75  5.7  37.5  23.2  33.6  43.1  2.6  1.0  1.1  52.2  1.59   \n",
              "76  8.9  35.9  23.2  32.0  42.0  2.3  2.2  1.0  52.5  1.64   \n",
              "77  5.5  40.1  24.2  30.2  42.0  2.4  0.7  1.0  53.9  1.68   \n",
              "78  5.1  46.5  20.8  27.6  35.6  2.0  0.5  0.8  61.1  1.78   \n",
              "\n",
              "    GCV (experimental) (MJ/kg)  \n",
              "74                       20.90  \n",
              "75                       17.33  \n",
              "76                       16.41  \n",
              "77                       16.85  \n",
              "78                       13.91  "
            ],
            "text/html": [
              "\n",
              "  <div id=\"df-67e740a7-df9e-4cd1-af5f-66cc50fa43d2\" class=\"colab-df-container\">\n",
              "    <div>\n",
              "<style scoped>\n",
              "    .dataframe tbody tr th:only-of-type {\n",
              "        vertical-align: middle;\n",
              "    }\n",
              "\n",
              "    .dataframe tbody tr th {\n",
              "        vertical-align: top;\n",
              "    }\n",
              "\n",
              "    .dataframe thead th {\n",
              "        text-align: right;\n",
              "    }\n",
              "</style>\n",
              "<table border=\"1\" class=\"dataframe\">\n",
              "  <thead>\n",
              "    <tr style=\"text-align: right;\">\n",
              "      <th></th>\n",
              "      <th>CM</th>\n",
              "      <th>CA</th>\n",
              "      <th>Vm</th>\n",
              "      <th>FC</th>\n",
              "      <th>CC</th>\n",
              "      <th>CH</th>\n",
              "      <th>CS</th>\n",
              "      <th>CN</th>\n",
              "      <th>CO</th>\n",
              "      <th>qHe</th>\n",
              "      <th>GCV (experimental) (MJ/kg)</th>\n",
              "    </tr>\n",
              "  </thead>\n",
              "  <tbody>\n",
              "    <tr>\n",
              "      <th>74</th>\n",
              "      <td>7.1</td>\n",
              "      <td>29.0</td>\n",
              "      <td>28.1</td>\n",
              "      <td>35.8</td>\n",
              "      <td>50.4</td>\n",
              "      <td>3.1</td>\n",
              "      <td>1.5</td>\n",
              "      <td>1.1</td>\n",
              "      <td>43.9</td>\n",
              "      <td>1.52</td>\n",
              "      <td>20.90</td>\n",
              "    </tr>\n",
              "    <tr>\n",
              "      <th>75</th>\n",
              "      <td>5.7</td>\n",
              "      <td>37.5</td>\n",
              "      <td>23.2</td>\n",
              "      <td>33.6</td>\n",
              "      <td>43.1</td>\n",
              "      <td>2.6</td>\n",
              "      <td>1.0</td>\n",
              "      <td>1.1</td>\n",
              "      <td>52.2</td>\n",
              "      <td>1.59</td>\n",
              "      <td>17.33</td>\n",
              "    </tr>\n",
              "    <tr>\n",
              "      <th>76</th>\n",
              "      <td>8.9</td>\n",
              "      <td>35.9</td>\n",
              "      <td>23.2</td>\n",
              "      <td>32.0</td>\n",
              "      <td>42.0</td>\n",
              "      <td>2.3</td>\n",
              "      <td>2.2</td>\n",
              "      <td>1.0</td>\n",
              "      <td>52.5</td>\n",
              "      <td>1.64</td>\n",
              "      <td>16.41</td>\n",
              "    </tr>\n",
              "    <tr>\n",
              "      <th>77</th>\n",
              "      <td>5.5</td>\n",
              "      <td>40.1</td>\n",
              "      <td>24.2</td>\n",
              "      <td>30.2</td>\n",
              "      <td>42.0</td>\n",
              "      <td>2.4</td>\n",
              "      <td>0.7</td>\n",
              "      <td>1.0</td>\n",
              "      <td>53.9</td>\n",
              "      <td>1.68</td>\n",
              "      <td>16.85</td>\n",
              "    </tr>\n",
              "    <tr>\n",
              "      <th>78</th>\n",
              "      <td>5.1</td>\n",
              "      <td>46.5</td>\n",
              "      <td>20.8</td>\n",
              "      <td>27.6</td>\n",
              "      <td>35.6</td>\n",
              "      <td>2.0</td>\n",
              "      <td>0.5</td>\n",
              "      <td>0.8</td>\n",
              "      <td>61.1</td>\n",
              "      <td>1.78</td>\n",
              "      <td>13.91</td>\n",
              "    </tr>\n",
              "  </tbody>\n",
              "</table>\n",
              "</div>\n",
              "    <div class=\"colab-df-buttons\">\n",
              "\n",
              "  <div class=\"colab-df-container\">\n",
              "    <button class=\"colab-df-convert\" onclick=\"convertToInteractive('df-67e740a7-df9e-4cd1-af5f-66cc50fa43d2')\"\n",
              "            title=\"Convert this dataframe to an interactive table.\"\n",
              "            style=\"display:none;\">\n",
              "\n",
              "  <svg xmlns=\"http://www.w3.org/2000/svg\" height=\"24px\" viewBox=\"0 -960 960 960\">\n",
              "    <path d=\"M120-120v-720h720v720H120Zm60-500h600v-160H180v160Zm220 220h160v-160H400v160Zm0 220h160v-160H400v160ZM180-400h160v-160H180v160Zm440 0h160v-160H620v160ZM180-180h160v-160H180v160Zm440 0h160v-160H620v160Z\"/>\n",
              "  </svg>\n",
              "    </button>\n",
              "\n",
              "  <style>\n",
              "    .colab-df-container {\n",
              "      display:flex;\n",
              "      gap: 12px;\n",
              "    }\n",
              "\n",
              "    .colab-df-convert {\n",
              "      background-color: #E8F0FE;\n",
              "      border: none;\n",
              "      border-radius: 50%;\n",
              "      cursor: pointer;\n",
              "      display: none;\n",
              "      fill: #1967D2;\n",
              "      height: 32px;\n",
              "      padding: 0 0 0 0;\n",
              "      width: 32px;\n",
              "    }\n",
              "\n",
              "    .colab-df-convert:hover {\n",
              "      background-color: #E2EBFA;\n",
              "      box-shadow: 0px 1px 2px rgba(60, 64, 67, 0.3), 0px 1px 3px 1px rgba(60, 64, 67, 0.15);\n",
              "      fill: #174EA6;\n",
              "    }\n",
              "\n",
              "    .colab-df-buttons div {\n",
              "      margin-bottom: 4px;\n",
              "    }\n",
              "\n",
              "    [theme=dark] .colab-df-convert {\n",
              "      background-color: #3B4455;\n",
              "      fill: #D2E3FC;\n",
              "    }\n",
              "\n",
              "    [theme=dark] .colab-df-convert:hover {\n",
              "      background-color: #434B5C;\n",
              "      box-shadow: 0px 1px 3px 1px rgba(0, 0, 0, 0.15);\n",
              "      filter: drop-shadow(0px 1px 2px rgba(0, 0, 0, 0.3));\n",
              "      fill: #FFFFFF;\n",
              "    }\n",
              "  </style>\n",
              "\n",
              "    <script>\n",
              "      const buttonEl =\n",
              "        document.querySelector('#df-67e740a7-df9e-4cd1-af5f-66cc50fa43d2 button.colab-df-convert');\n",
              "      buttonEl.style.display =\n",
              "        google.colab.kernel.accessAllowed ? 'block' : 'none';\n",
              "\n",
              "      async function convertToInteractive(key) {\n",
              "        const element = document.querySelector('#df-67e740a7-df9e-4cd1-af5f-66cc50fa43d2');\n",
              "        const dataTable =\n",
              "          await google.colab.kernel.invokeFunction('convertToInteractive',\n",
              "                                                    [key], {});\n",
              "        if (!dataTable) return;\n",
              "\n",
              "        const docLinkHtml = 'Like what you see? Visit the ' +\n",
              "          '<a target=\"_blank\" href=https://colab.research.google.com/notebooks/data_table.ipynb>data table notebook</a>'\n",
              "          + ' to learn more about interactive tables.';\n",
              "        element.innerHTML = '';\n",
              "        dataTable['output_type'] = 'display_data';\n",
              "        await google.colab.output.renderOutput(dataTable, element);\n",
              "        const docLink = document.createElement('div');\n",
              "        docLink.innerHTML = docLinkHtml;\n",
              "        element.appendChild(docLink);\n",
              "      }\n",
              "    </script>\n",
              "  </div>\n",
              "\n",
              "\n",
              "<div id=\"df-0e328e79-9000-4fc4-a34b-c4bce62dc164\">\n",
              "  <button class=\"colab-df-quickchart\" onclick=\"quickchart('df-0e328e79-9000-4fc4-a34b-c4bce62dc164')\"\n",
              "            title=\"Suggest charts\"\n",
              "            style=\"display:none;\">\n",
              "\n",
              "<svg xmlns=\"http://www.w3.org/2000/svg\" height=\"24px\"viewBox=\"0 0 24 24\"\n",
              "     width=\"24px\">\n",
              "    <g>\n",
              "        <path d=\"M19 3H5c-1.1 0-2 .9-2 2v14c0 1.1.9 2 2 2h14c1.1 0 2-.9 2-2V5c0-1.1-.9-2-2-2zM9 17H7v-7h2v7zm4 0h-2V7h2v10zm4 0h-2v-4h2v4z\"/>\n",
              "    </g>\n",
              "</svg>\n",
              "  </button>\n",
              "\n",
              "<style>\n",
              "  .colab-df-quickchart {\n",
              "      --bg-color: #E8F0FE;\n",
              "      --fill-color: #1967D2;\n",
              "      --hover-bg-color: #E2EBFA;\n",
              "      --hover-fill-color: #174EA6;\n",
              "      --disabled-fill-color: #AAA;\n",
              "      --disabled-bg-color: #DDD;\n",
              "  }\n",
              "\n",
              "  [theme=dark] .colab-df-quickchart {\n",
              "      --bg-color: #3B4455;\n",
              "      --fill-color: #D2E3FC;\n",
              "      --hover-bg-color: #434B5C;\n",
              "      --hover-fill-color: #FFFFFF;\n",
              "      --disabled-bg-color: #3B4455;\n",
              "      --disabled-fill-color: #666;\n",
              "  }\n",
              "\n",
              "  .colab-df-quickchart {\n",
              "    background-color: var(--bg-color);\n",
              "    border: none;\n",
              "    border-radius: 50%;\n",
              "    cursor: pointer;\n",
              "    display: none;\n",
              "    fill: var(--fill-color);\n",
              "    height: 32px;\n",
              "    padding: 0;\n",
              "    width: 32px;\n",
              "  }\n",
              "\n",
              "  .colab-df-quickchart:hover {\n",
              "    background-color: var(--hover-bg-color);\n",
              "    box-shadow: 0 1px 2px rgba(60, 64, 67, 0.3), 0 1px 3px 1px rgba(60, 64, 67, 0.15);\n",
              "    fill: var(--button-hover-fill-color);\n",
              "  }\n",
              "\n",
              "  .colab-df-quickchart-complete:disabled,\n",
              "  .colab-df-quickchart-complete:disabled:hover {\n",
              "    background-color: var(--disabled-bg-color);\n",
              "    fill: var(--disabled-fill-color);\n",
              "    box-shadow: none;\n",
              "  }\n",
              "\n",
              "  .colab-df-spinner {\n",
              "    border: 2px solid var(--fill-color);\n",
              "    border-color: transparent;\n",
              "    border-bottom-color: var(--fill-color);\n",
              "    animation:\n",
              "      spin 1s steps(1) infinite;\n",
              "  }\n",
              "\n",
              "  @keyframes spin {\n",
              "    0% {\n",
              "      border-color: transparent;\n",
              "      border-bottom-color: var(--fill-color);\n",
              "      border-left-color: var(--fill-color);\n",
              "    }\n",
              "    20% {\n",
              "      border-color: transparent;\n",
              "      border-left-color: var(--fill-color);\n",
              "      border-top-color: var(--fill-color);\n",
              "    }\n",
              "    30% {\n",
              "      border-color: transparent;\n",
              "      border-left-color: var(--fill-color);\n",
              "      border-top-color: var(--fill-color);\n",
              "      border-right-color: var(--fill-color);\n",
              "    }\n",
              "    40% {\n",
              "      border-color: transparent;\n",
              "      border-right-color: var(--fill-color);\n",
              "      border-top-color: var(--fill-color);\n",
              "    }\n",
              "    60% {\n",
              "      border-color: transparent;\n",
              "      border-right-color: var(--fill-color);\n",
              "    }\n",
              "    80% {\n",
              "      border-color: transparent;\n",
              "      border-right-color: var(--fill-color);\n",
              "      border-bottom-color: var(--fill-color);\n",
              "    }\n",
              "    90% {\n",
              "      border-color: transparent;\n",
              "      border-bottom-color: var(--fill-color);\n",
              "    }\n",
              "  }\n",
              "</style>\n",
              "\n",
              "  <script>\n",
              "    async function quickchart(key) {\n",
              "      const quickchartButtonEl =\n",
              "        document.querySelector('#' + key + ' button');\n",
              "      quickchartButtonEl.disabled = true;  // To prevent multiple clicks.\n",
              "      quickchartButtonEl.classList.add('colab-df-spinner');\n",
              "      try {\n",
              "        const charts = await google.colab.kernel.invokeFunction(\n",
              "            'suggestCharts', [key], {});\n",
              "      } catch (error) {\n",
              "        console.error('Error during call to suggestCharts:', error);\n",
              "      }\n",
              "      quickchartButtonEl.classList.remove('colab-df-spinner');\n",
              "      quickchartButtonEl.classList.add('colab-df-quickchart-complete');\n",
              "    }\n",
              "    (() => {\n",
              "      let quickchartButtonEl =\n",
              "        document.querySelector('#df-0e328e79-9000-4fc4-a34b-c4bce62dc164 button');\n",
              "      quickchartButtonEl.style.display =\n",
              "        google.colab.kernel.accessAllowed ? 'block' : 'none';\n",
              "    })();\n",
              "  </script>\n",
              "</div>\n",
              "    </div>\n",
              "  </div>\n"
            ],
            "application/vnd.google.colaboratory.intrinsic+json": {
              "type": "dataframe",
              "summary": "{\n  \"name\": \"df\",\n  \"rows\": 5,\n  \"fields\": [\n    {\n      \"column\": \"CM\",\n      \"properties\": {\n        \"dtype\": \"number\",\n        \"std\": 1.5582040944625966,\n        \"min\": 5.1,\n        \"max\": 8.9,\n        \"num_unique_values\": 5,\n        \"samples\": [\n          5.7,\n          5.1,\n          8.9\n        ],\n        \"semantic_type\": \"\",\n        \"description\": \"\"\n      }\n    },\n    {\n      \"column\": \"CA\",\n      \"properties\": {\n        \"dtype\": \"number\",\n        \"std\": 6.366317616958803,\n        \"min\": 29.0,\n        \"max\": 46.5,\n        \"num_unique_values\": 5,\n        \"samples\": [\n          37.5,\n          46.5,\n          35.9\n        ],\n        \"semantic_type\": \"\",\n        \"description\": \"\"\n      }\n    },\n    {\n      \"column\": \"Vm\",\n      \"properties\": {\n        \"dtype\": \"number\",\n        \"std\": 2.6608269391300143,\n        \"min\": 20.8,\n        \"max\": 28.1,\n        \"num_unique_values\": 4,\n        \"samples\": [\n          23.2,\n          20.8,\n          28.1\n        ],\n        \"semantic_type\": \"\",\n        \"description\": \"\"\n      }\n    },\n    {\n      \"column\": \"FC\",\n      \"properties\": {\n        \"dtype\": \"number\",\n        \"std\": 3.141337294847529,\n        \"min\": 27.6,\n        \"max\": 35.8,\n        \"num_unique_values\": 5,\n        \"samples\": [\n          33.6,\n          27.6,\n          32.0\n        ],\n        \"semantic_type\": \"\",\n        \"description\": \"\"\n      }\n    },\n    {\n      \"column\": \"CC\",\n      \"properties\": {\n        \"dtype\": \"number\",\n        \"std\": 5.26326894619684,\n        \"min\": 35.6,\n        \"max\": 50.4,\n        \"num_unique_values\": 4,\n        \"samples\": [\n          43.1,\n          35.6,\n          50.4\n        ],\n        \"semantic_type\": \"\",\n        \"description\": \"\"\n      }\n    },\n    {\n      \"column\": \"CH\",\n      \"properties\": {\n        \"dtype\": \"number\",\n        \"std\": 0.40865633483405106,\n        \"min\": 2.0,\n        \"max\": 3.1,\n        \"num_unique_values\": 5,\n        \"samples\": [\n          2.6,\n          2.0,\n          2.3\n        ],\n        \"semantic_type\": \"\",\n        \"description\": \"\"\n      }\n    },\n    {\n      \"column\": \"CS\",\n      \"properties\": {\n        \"dtype\": \"number\",\n        \"std\": 0.6833739825307955,\n        \"min\": 0.5,\n        \"max\": 2.2,\n        \"num_unique_values\": 5,\n        \"samples\": [\n          1.0,\n          0.5,\n          2.2\n        ],\n        \"semantic_type\": \"\",\n        \"description\": \"\"\n      }\n    },\n    {\n      \"column\": \"CN\",\n      \"properties\": {\n        \"dtype\": \"number\",\n        \"std\": 0.12247448713915891,\n        \"min\": 0.8,\n        \"max\": 1.1,\n        \"num_unique_values\": 3,\n        \"samples\": [\n          1.1,\n          1.0,\n          0.8\n        ],\n        \"semantic_type\": \"\",\n        \"description\": \"\"\n      }\n    },\n    {\n      \"column\": \"CO\",\n      \"properties\": {\n        \"dtype\": \"number\",\n        \"std\": 6.118169660936187,\n        \"min\": 43.9,\n        \"max\": 61.1,\n        \"num_unique_values\": 5,\n        \"samples\": [\n          52.2,\n          61.1,\n          52.5\n        ],\n        \"semantic_type\": \"\",\n        \"description\": \"\"\n      }\n    },\n    {\n      \"column\": \"qHe\",\n      \"properties\": {\n        \"dtype\": \"number\",\n        \"std\": 0.09757048734120373,\n        \"min\": 1.52,\n        \"max\": 1.78,\n        \"num_unique_values\": 5,\n        \"samples\": [\n          1.59,\n          1.78,\n          1.64\n        ],\n        \"semantic_type\": \"\",\n        \"description\": \"\"\n      }\n    },\n    {\n      \"column\": \"GCV (experimental) (MJ/kg)\",\n      \"properties\": {\n        \"dtype\": \"number\",\n        \"std\": 2.5102589507857545,\n        \"min\": 13.91,\n        \"max\": 20.9,\n        \"num_unique_values\": 5,\n        \"samples\": [\n          17.33,\n          13.91,\n          16.41\n        ],\n        \"semantic_type\": \"\",\n        \"description\": \"\"\n      }\n    }\n  ]\n}"
            }
          },
          "metadata": {},
          "execution_count": 18
        }
      ]
    },
    {
      "cell_type": "code",
      "metadata": {
        "id": "zDbdAbx9q53l"
      },
      "source": [
        "data_pa = df[['CM', 'CA', 'Vm', 'FC', 'CC', 'CH', 'CS', 'CN',\n",
        "       'CO', 'qHe', 'GCV (experimental) (MJ/kg)']]\n",
        "#data_pa = data_pa[['avg_outflow','TN','T', 'total_grid']]\n",
        "X_data = data_pa.iloc[:, 0:10].values\n",
        "y_data = data_pa.iloc[:, 10:11].values"
      ],
      "execution_count": null,
      "outputs": []
    },
    {
      "cell_type": "code",
      "metadata": {
        "id": "R2yZ80dx1JPs"
      },
      "source": [
        "#PREPROCESSING DATA\n",
        "\n",
        "#Normalization\n",
        "min_max_scaler = MinMaxScaler(feature_range=(0,1))#this by default returns the value between 0-10.\n",
        "X = min_max_scaler.fit_transform(X_data)\n",
        "y = min_max_scaler.fit_transform(y_data)"
      ],
      "execution_count": null,
      "outputs": []
    },
    {
      "cell_type": "code",
      "source": [
        "X_train , X_test , y_train , y_test = train_test_split(X , y , test_size = 0.2 , shuffle = True )"
      ],
      "metadata": {
        "id": "-6_A-I633t_w"
      },
      "execution_count": null,
      "outputs": []
    },
    {
      "cell_type": "code",
      "metadata": {
        "id": "iv4UISKJ2HYY"
      },
      "source": [
        "# scaling outputs (1 column)\n",
        "#Y_train = df_for_training.drop(['CM', 'CA', 'Vm','FC','CC','CH','CS','CN','CO','qHe'], axis=1)\n",
        "#scaler_Y=MinMaxScaler(feature_range=(0,1))\n",
        "#Y_train = scaler_Y.fit_transform(Y_train)\n",
        "#Y_train.shape"
      ],
      "execution_count": null,
      "outputs": []
    },
    {
      "cell_type": "code",
      "metadata": {
        "id": "P5TLXVpFruvs"
      },
      "source": [
        "# PREVIOUS CODE\n",
        "# scaler=MinMaxScaler(feature_range=(0,1))\n",
        "# df_for_training_scaled = scaler.fit_transform(df_for_training)\n",
        "# df_for_training_scaled.shape"
      ],
      "execution_count": null,
      "outputs": []
    },
    {
      "cell_type": "code",
      "metadata": {
        "id": "QM0BRw1U3RSC"
      },
      "source": [
        "X_train_scaled = pd.DataFrame(X_train, columns=['CM', 'CA', 'Vm','FC','CC','CH','CS','CN','CO','qHe'])\n",
        "Y_train_scaled = pd.DataFrame(y_train, columns=['GCV (experimental) (MJ/kg)'])\n",
        "df_for_training_scaled = pd.concat([Y_train_scaled, X_train_scaled], axis=1)\n",
        "# df_for_training_scaled\n",
        "df_for_training_scaled = np.array(df_for_training_scaled)"
      ],
      "execution_count": null,
      "outputs": []
    },
    {
      "cell_type": "code",
      "metadata": {
        "id": "G2UWMAvZsXRj",
        "colab": {
          "base_uri": "https://localhost:8080/"
        },
        "outputId": "836bcccd-47e3-4a0d-e8df-8df4951dab7b"
      },
      "source": [
        "trainX = []\n",
        "trainY = []\n",
        "n_future = 1\n",
        "n_past = 3\n",
        "for i in range(n_past, len(df_for_training_scaled) - n_future +1):\n",
        "    trainX.append(df_for_training_scaled[i - n_past:i, 1:X_train.shape[1]])\n",
        "    trainY.append(df_for_training_scaled[i + n_future - 1:i + n_future, 0])\n",
        "\n",
        "trainX, trainY = np.array(trainX), np.array(trainY)\n",
        "\n",
        "print('trainX shape == {}.'.format(trainX.shape))\n",
        "print('trainY shape == {}.'.format(trainY.shape))"
      ],
      "execution_count": null,
      "outputs": [
        {
          "output_type": "stream",
          "name": "stdout",
          "text": [
            "trainX shape == (60, 3, 9).\n",
            "trainY shape == (60, 1).\n"
          ]
        }
      ]
    },
    {
      "cell_type": "code",
      "metadata": {
        "id": "iBemU0E1vZmY"
      },
      "source": [
        "model = Sequential()\n",
        "model.add(LSTM(64, activation='tanh', input_shape=(trainX.shape[1], trainX.shape[2]), return_sequences=True))\n",
        "model.add(LSTM(32, activation='tanh', return_sequences= False))\n",
        "model.add(Dropout(0.2))\n",
        "model.add(Dense(trainY.shape[1]))\n",
        "model.compile(optimizer='adam', loss='mse')"
      ],
      "execution_count": null,
      "outputs": []
    },
    {
      "cell_type": "code",
      "metadata": {
        "id": "1QHDHhEuvogF",
        "colab": {
          "base_uri": "https://localhost:8080/"
        },
        "outputId": "7af797e2-006d-4e82-9625-280ddc0f9e91"
      },
      "source": [
        "model.summary()"
      ],
      "execution_count": null,
      "outputs": [
        {
          "output_type": "stream",
          "name": "stdout",
          "text": [
            "Model: \"sequential\"\n",
            "_________________________________________________________________\n",
            " Layer (type)                Output Shape              Param #   \n",
            "=================================================================\n",
            " lstm (LSTM)                 (None, 3, 64)             18944     \n",
            "                                                                 \n",
            " lstm_1 (LSTM)               (None, 32)                12416     \n",
            "                                                                 \n",
            " dropout (Dropout)           (None, 32)                0         \n",
            "                                                                 \n",
            " dense (Dense)               (None, 1)                 33        \n",
            "                                                                 \n",
            "=================================================================\n",
            "Total params: 31393 (122.63 KB)\n",
            "Trainable params: 31393 (122.63 KB)\n",
            "Non-trainable params: 0 (0.00 Byte)\n",
            "_________________________________________________________________\n"
          ]
        }
      ]
    },
    {
      "cell_type": "code",
      "metadata": {
        "id": "TK6uiAdIv6Vu",
        "colab": {
          "base_uri": "https://localhost:8080/"
        },
        "outputId": "eaa9b909-cb9f-42e9-e309-671127da01d9"
      },
      "source": [
        "history = model.fit(trainX, trainY, epochs=100, batch_size=4, validation_split=0.1, verbose=1)"
      ],
      "execution_count": null,
      "outputs": [
        {
          "output_type": "stream",
          "name": "stdout",
          "text": [
            "Epoch 1/100\n",
            "14/14 [==============================] - 6s 71ms/step - loss: 0.2355 - val_loss: 0.0980\n",
            "Epoch 2/100\n",
            "14/14 [==============================] - 0s 9ms/step - loss: 0.0568 - val_loss: 0.0668\n",
            "Epoch 3/100\n",
            "14/14 [==============================] - 0s 7ms/step - loss: 0.0506 - val_loss: 0.0733\n",
            "Epoch 4/100\n",
            "14/14 [==============================] - 0s 7ms/step - loss: 0.0432 - val_loss: 0.0663\n",
            "Epoch 5/100\n",
            "14/14 [==============================] - 0s 7ms/step - loss: 0.0415 - val_loss: 0.0650\n",
            "Epoch 6/100\n",
            "14/14 [==============================] - 0s 7ms/step - loss: 0.0457 - val_loss: 0.0705\n",
            "Epoch 7/100\n",
            "14/14 [==============================] - 0s 8ms/step - loss: 0.0381 - val_loss: 0.0665\n",
            "Epoch 8/100\n",
            "14/14 [==============================] - 0s 7ms/step - loss: 0.0384 - val_loss: 0.0669\n",
            "Epoch 9/100\n",
            "14/14 [==============================] - 0s 8ms/step - loss: 0.0376 - val_loss: 0.0704\n",
            "Epoch 10/100\n",
            "14/14 [==============================] - 0s 7ms/step - loss: 0.0409 - val_loss: 0.0667\n",
            "Epoch 11/100\n",
            "14/14 [==============================] - 0s 7ms/step - loss: 0.0465 - val_loss: 0.0751\n",
            "Epoch 12/100\n",
            "14/14 [==============================] - 0s 8ms/step - loss: 0.0396 - val_loss: 0.0667\n",
            "Epoch 13/100\n",
            "14/14 [==============================] - 0s 7ms/step - loss: 0.0438 - val_loss: 0.0713\n",
            "Epoch 14/100\n",
            "14/14 [==============================] - 0s 7ms/step - loss: 0.0393 - val_loss: 0.0672\n",
            "Epoch 15/100\n",
            "14/14 [==============================] - 0s 7ms/step - loss: 0.0465 - val_loss: 0.0723\n",
            "Epoch 16/100\n",
            "14/14 [==============================] - 0s 8ms/step - loss: 0.0386 - val_loss: 0.0677\n",
            "Epoch 17/100\n",
            "14/14 [==============================] - 0s 8ms/step - loss: 0.0344 - val_loss: 0.0785\n",
            "Epoch 18/100\n",
            "14/14 [==============================] - 0s 8ms/step - loss: 0.0398 - val_loss: 0.0681\n",
            "Epoch 19/100\n",
            "14/14 [==============================] - 0s 8ms/step - loss: 0.0392 - val_loss: 0.0731\n",
            "Epoch 20/100\n",
            "14/14 [==============================] - 0s 8ms/step - loss: 0.0403 - val_loss: 0.0690\n",
            "Epoch 21/100\n",
            "14/14 [==============================] - 0s 8ms/step - loss: 0.0380 - val_loss: 0.0724\n",
            "Epoch 22/100\n",
            "14/14 [==============================] - 0s 8ms/step - loss: 0.0355 - val_loss: 0.0698\n",
            "Epoch 23/100\n",
            "14/14 [==============================] - 0s 8ms/step - loss: 0.0406 - val_loss: 0.0697\n",
            "Epoch 24/100\n",
            "14/14 [==============================] - 0s 7ms/step - loss: 0.0356 - val_loss: 0.0708\n",
            "Epoch 25/100\n",
            "14/14 [==============================] - 0s 8ms/step - loss: 0.0351 - val_loss: 0.0726\n",
            "Epoch 26/100\n",
            "14/14 [==============================] - 0s 7ms/step - loss: 0.0370 - val_loss: 0.0708\n",
            "Epoch 27/100\n",
            "14/14 [==============================] - 0s 8ms/step - loss: 0.0363 - val_loss: 0.0737\n",
            "Epoch 28/100\n",
            "14/14 [==============================] - 0s 7ms/step - loss: 0.0382 - val_loss: 0.0744\n",
            "Epoch 29/100\n",
            "14/14 [==============================] - 0s 8ms/step - loss: 0.0346 - val_loss: 0.0695\n",
            "Epoch 30/100\n",
            "14/14 [==============================] - 0s 7ms/step - loss: 0.0418 - val_loss: 0.0701\n",
            "Epoch 31/100\n",
            "14/14 [==============================] - 0s 7ms/step - loss: 0.0385 - val_loss: 0.0707\n",
            "Epoch 32/100\n",
            "14/14 [==============================] - 0s 7ms/step - loss: 0.0395 - val_loss: 0.0697\n",
            "Epoch 33/100\n",
            "14/14 [==============================] - 0s 9ms/step - loss: 0.0365 - val_loss: 0.0702\n",
            "Epoch 34/100\n",
            "14/14 [==============================] - 0s 8ms/step - loss: 0.0520 - val_loss: 0.0736\n",
            "Epoch 35/100\n",
            "14/14 [==============================] - 0s 8ms/step - loss: 0.0331 - val_loss: 0.0681\n",
            "Epoch 36/100\n",
            "14/14 [==============================] - 0s 7ms/step - loss: 0.0339 - val_loss: 0.0726\n",
            "Epoch 37/100\n",
            "14/14 [==============================] - 0s 9ms/step - loss: 0.0317 - val_loss: 0.0705\n",
            "Epoch 38/100\n",
            "14/14 [==============================] - 0s 9ms/step - loss: 0.0335 - val_loss: 0.0682\n",
            "Epoch 39/100\n",
            "14/14 [==============================] - 0s 7ms/step - loss: 0.0361 - val_loss: 0.0702\n",
            "Epoch 40/100\n",
            "14/14 [==============================] - 0s 8ms/step - loss: 0.0373 - val_loss: 0.0697\n",
            "Epoch 41/100\n",
            "14/14 [==============================] - 0s 7ms/step - loss: 0.0356 - val_loss: 0.0691\n",
            "Epoch 42/100\n",
            "14/14 [==============================] - 0s 8ms/step - loss: 0.0379 - val_loss: 0.0708\n",
            "Epoch 43/100\n",
            "14/14 [==============================] - 0s 7ms/step - loss: 0.0380 - val_loss: 0.0688\n",
            "Epoch 44/100\n",
            "14/14 [==============================] - 0s 7ms/step - loss: 0.0376 - val_loss: 0.0716\n",
            "Epoch 45/100\n",
            "14/14 [==============================] - 0s 7ms/step - loss: 0.0366 - val_loss: 0.0727\n",
            "Epoch 46/100\n",
            "14/14 [==============================] - 0s 8ms/step - loss: 0.0403 - val_loss: 0.0676\n",
            "Epoch 47/100\n",
            "14/14 [==============================] - 0s 8ms/step - loss: 0.0361 - val_loss: 0.0772\n",
            "Epoch 48/100\n",
            "14/14 [==============================] - 0s 7ms/step - loss: 0.0353 - val_loss: 0.0682\n",
            "Epoch 49/100\n",
            "14/14 [==============================] - 0s 6ms/step - loss: 0.0365 - val_loss: 0.0721\n",
            "Epoch 50/100\n",
            "14/14 [==============================] - 0s 8ms/step - loss: 0.0348 - val_loss: 0.0694\n",
            "Epoch 51/100\n",
            "14/14 [==============================] - 0s 7ms/step - loss: 0.0392 - val_loss: 0.0735\n",
            "Epoch 52/100\n",
            "14/14 [==============================] - 0s 8ms/step - loss: 0.0393 - val_loss: 0.0704\n",
            "Epoch 53/100\n",
            "14/14 [==============================] - 0s 8ms/step - loss: 0.0353 - val_loss: 0.0747\n",
            "Epoch 54/100\n",
            "14/14 [==============================] - 0s 7ms/step - loss: 0.0326 - val_loss: 0.0697\n",
            "Epoch 55/100\n",
            "14/14 [==============================] - 0s 8ms/step - loss: 0.0379 - val_loss: 0.0710\n",
            "Epoch 56/100\n",
            "14/14 [==============================] - 0s 8ms/step - loss: 0.0340 - val_loss: 0.0698\n",
            "Epoch 57/100\n",
            "14/14 [==============================] - 0s 7ms/step - loss: 0.0385 - val_loss: 0.0755\n",
            "Epoch 58/100\n",
            "14/14 [==============================] - 0s 8ms/step - loss: 0.0344 - val_loss: 0.0703\n",
            "Epoch 59/100\n",
            "14/14 [==============================] - 0s 8ms/step - loss: 0.0398 - val_loss: 0.0725\n",
            "Epoch 60/100\n",
            "14/14 [==============================] - 0s 8ms/step - loss: 0.0381 - val_loss: 0.0705\n",
            "Epoch 61/100\n",
            "14/14 [==============================] - 0s 7ms/step - loss: 0.0365 - val_loss: 0.0692\n",
            "Epoch 62/100\n",
            "14/14 [==============================] - 0s 7ms/step - loss: 0.0363 - val_loss: 0.0736\n",
            "Epoch 63/100\n",
            "14/14 [==============================] - 0s 8ms/step - loss: 0.0315 - val_loss: 0.0722\n",
            "Epoch 64/100\n",
            "14/14 [==============================] - 0s 9ms/step - loss: 0.0390 - val_loss: 0.0700\n",
            "Epoch 65/100\n",
            "14/14 [==============================] - 0s 8ms/step - loss: 0.0353 - val_loss: 0.0724\n",
            "Epoch 66/100\n",
            "14/14 [==============================] - 0s 7ms/step - loss: 0.0348 - val_loss: 0.0707\n",
            "Epoch 67/100\n",
            "14/14 [==============================] - 0s 7ms/step - loss: 0.0341 - val_loss: 0.0748\n",
            "Epoch 68/100\n",
            "14/14 [==============================] - 0s 8ms/step - loss: 0.0415 - val_loss: 0.0717\n",
            "Epoch 69/100\n",
            "14/14 [==============================] - 0s 8ms/step - loss: 0.0329 - val_loss: 0.0725\n",
            "Epoch 70/100\n",
            "14/14 [==============================] - 0s 9ms/step - loss: 0.0354 - val_loss: 0.0716\n",
            "Epoch 71/100\n",
            "14/14 [==============================] - 0s 12ms/step - loss: 0.0334 - val_loss: 0.0751\n",
            "Epoch 72/100\n",
            "14/14 [==============================] - 0s 11ms/step - loss: 0.0357 - val_loss: 0.0730\n",
            "Epoch 73/100\n",
            "14/14 [==============================] - 0s 10ms/step - loss: 0.0351 - val_loss: 0.0754\n",
            "Epoch 74/100\n",
            "14/14 [==============================] - 0s 10ms/step - loss: 0.0346 - val_loss: 0.0701\n",
            "Epoch 75/100\n",
            "14/14 [==============================] - 0s 11ms/step - loss: 0.0323 - val_loss: 0.0690\n",
            "Epoch 76/100\n",
            "14/14 [==============================] - 0s 11ms/step - loss: 0.0351 - val_loss: 0.0731\n",
            "Epoch 77/100\n",
            "14/14 [==============================] - 0s 11ms/step - loss: 0.0337 - val_loss: 0.0684\n",
            "Epoch 78/100\n",
            "14/14 [==============================] - 0s 11ms/step - loss: 0.0351 - val_loss: 0.0730\n",
            "Epoch 79/100\n",
            "14/14 [==============================] - 0s 11ms/step - loss: 0.0369 - val_loss: 0.0714\n",
            "Epoch 80/100\n",
            "14/14 [==============================] - 0s 11ms/step - loss: 0.0354 - val_loss: 0.0708\n",
            "Epoch 81/100\n",
            "14/14 [==============================] - 0s 10ms/step - loss: 0.0343 - val_loss: 0.0740\n",
            "Epoch 82/100\n",
            "14/14 [==============================] - 0s 10ms/step - loss: 0.0373 - val_loss: 0.0714\n",
            "Epoch 83/100\n",
            "14/14 [==============================] - 0s 10ms/step - loss: 0.0343 - val_loss: 0.0718\n",
            "Epoch 84/100\n",
            "14/14 [==============================] - 0s 12ms/step - loss: 0.0343 - val_loss: 0.0710\n",
            "Epoch 85/100\n",
            "14/14 [==============================] - 0s 9ms/step - loss: 0.0370 - val_loss: 0.0725\n",
            "Epoch 86/100\n",
            "14/14 [==============================] - 0s 9ms/step - loss: 0.0359 - val_loss: 0.0767\n",
            "Epoch 87/100\n",
            "14/14 [==============================] - 0s 8ms/step - loss: 0.0379 - val_loss: 0.0704\n",
            "Epoch 88/100\n",
            "14/14 [==============================] - 0s 8ms/step - loss: 0.0370 - val_loss: 0.0747\n",
            "Epoch 89/100\n",
            "14/14 [==============================] - 0s 7ms/step - loss: 0.0348 - val_loss: 0.0743\n",
            "Epoch 90/100\n",
            "14/14 [==============================] - 0s 7ms/step - loss: 0.0379 - val_loss: 0.0708\n",
            "Epoch 91/100\n",
            "14/14 [==============================] - 0s 7ms/step - loss: 0.0348 - val_loss: 0.0760\n",
            "Epoch 92/100\n",
            "14/14 [==============================] - 0s 8ms/step - loss: 0.0359 - val_loss: 0.0727\n",
            "Epoch 93/100\n",
            "14/14 [==============================] - 0s 9ms/step - loss: 0.0328 - val_loss: 0.0738\n",
            "Epoch 94/100\n",
            "14/14 [==============================] - 0s 8ms/step - loss: 0.0371 - val_loss: 0.0707\n",
            "Epoch 95/100\n",
            "14/14 [==============================] - 0s 8ms/step - loss: 0.0347 - val_loss: 0.0775\n",
            "Epoch 96/100\n",
            "14/14 [==============================] - 0s 7ms/step - loss: 0.0364 - val_loss: 0.0727\n",
            "Epoch 97/100\n",
            "14/14 [==============================] - 0s 7ms/step - loss: 0.0353 - val_loss: 0.0748\n",
            "Epoch 98/100\n",
            "14/14 [==============================] - 0s 7ms/step - loss: 0.0435 - val_loss: 0.0710\n",
            "Epoch 99/100\n",
            "14/14 [==============================] - 0s 8ms/step - loss: 0.0392 - val_loss: 0.0782\n",
            "Epoch 100/100\n",
            "14/14 [==============================] - 0s 7ms/step - loss: 0.0355 - val_loss: 0.0705\n"
          ]
        }
      ]
    },
    {
      "cell_type": "code",
      "metadata": {
        "id": "UouITQAGwEmc",
        "colab": {
          "base_uri": "https://localhost:8080/",
          "height": 447
        },
        "outputId": "6165a9f3-6d89-48cc-8ca4-f0b823ce049f"
      },
      "source": [
        "plt.plot(history.history['loss'], label='Training loss')\n",
        "plt.plot(history.history['val_loss'], label='Validation loss')\n",
        "plt.legend()"
      ],
      "execution_count": null,
      "outputs": [
        {
          "output_type": "execute_result",
          "data": {
            "text/plain": [
              "<matplotlib.legend.Legend at 0x7835f9f1e410>"
            ]
          },
          "metadata": {},
          "execution_count": 30
        },
        {
          "output_type": "display_data",
          "data": {
            "text/plain": [
              "<Figure size 640x480 with 1 Axes>"
            ],
            "image/png": "[encoded data removed]"
          },
          "metadata": {}
        }
      ]
    },
    {
      "cell_type": "code",
      "metadata": {
        "id": "fWEtHZiUBvVH"
      },
      "source": [
        "#df_for_test= df[['GCV (experimental) (MJ/kg)','CM','CA', 'Vm','FC','CC','CH','CS','CN','CO','qHe']]\n",
        "#df_for_test=df_for_test.drop(df_for_test.index[0:63])\n",
        "#print(df_for_test)"
      ],
      "execution_count": null,
      "outputs": []
    },
    {
      "cell_type": "code",
      "metadata": {
        "id": "7rk3SH5ewbBj"
      },
      "source": [
        "# scaling inputs (columns)\n",
        "#X_test = df_for_test.drop(['GCV (experimental) (MJ/kg)'], axis=1)\n",
        "#X_test = scaler_X.fit_transform(X_test)\n",
        "#X_test.shape"
      ],
      "execution_count": null,
      "outputs": []
    },
    {
      "cell_type": "code",
      "metadata": {
        "id": "lYNuXbFV6sJz"
      },
      "source": [
        "# scaling outputs (1 column)\n",
        "#Y_test = df_for_test.drop(['CM', 'CA', 'Vm','FC','CC','CH','CS','CN','CO','qHe'], axis=1)\n",
        "#Y_test = scaler_Y.fit_transform(Y_test)\n",
        "#Y_test.shape"
      ],
      "execution_count": null,
      "outputs": []
    },
    {
      "cell_type": "code",
      "metadata": {
        "id": "p9wYwlhJ6uO9"
      },
      "source": [
        "X_test_scaled = pd.DataFrame(X_test, columns=['CM', 'CA', 'Vm','FC','CC','CH','CS','CN','CO','qHe'])\n",
        "Y_test_scaled = pd.DataFrame(y_test, columns=['GCV (experimental) (MJ/kg)'])\n",
        "df_for_test_scaled = pd.concat([Y_test_scaled, X_test_scaled], axis=1)\n",
        "# df_for_test_scaled\n",
        "df_for_test_scaled = np.array(df_for_test_scaled)"
      ],
      "execution_count": null,
      "outputs": []
    },
    {
      "cell_type": "code",
      "metadata": {
        "id": "OJ_Lgh99EO6s",
        "colab": {
          "base_uri": "https://localhost:8080/"
        },
        "outputId": "3c34603e-3bb4-4d98-c584-7773e310999d"
      },
      "source": [
        "testX = []\n",
        "testY = []\n",
        "n_future = 1\n",
        "n_past = 3\n",
        "for i in range(n_past, len(df_for_test_scaled) - n_future +1):\n",
        "    testX.append(df_for_test_scaled[i - n_past:i, 1:X_test.shape[1]])\n",
        "    testY.append(df_for_test_scaled[i + n_future - 1:i + n_future, 0])\n",
        "\n",
        "testX, testY = np.array(testX), np.array(testY)\n",
        "\n",
        "print('testX shape == {}.'.format(testX.shape))\n",
        "print('testY shape == {}.'.format(testY.shape))"
      ],
      "execution_count": null,
      "outputs": [
        {
          "output_type": "stream",
          "name": "stdout",
          "text": [
            "testX shape == (13, 3, 9).\n",
            "testY shape == (13, 1).\n"
          ]
        }
      ]
    },
    {
      "cell_type": "code",
      "metadata": {
        "id": "gWgcSi65Fn6q",
        "colab": {
          "base_uri": "https://localhost:8080/"
        },
        "outputId": "043e0d71-eea1-4251-95c4-c7fc144513e6"
      },
      "source": [
        "train_predict=model.predict(trainX)\n",
        "test_predict=model.predict(testX)"
      ],
      "execution_count": null,
      "outputs": [
        {
          "output_type": "stream",
          "name": "stdout",
          "text": [
            "2/2 [==============================] - 1s 6ms/step\n",
            "1/1 [==============================] - 0s 28ms/step\n"
          ]
        }
      ]
    },
    {
      "cell_type": "code",
      "metadata": {
        "id": "ppkTEcLi7QlD"
      },
      "source": [
        "train_predict_fin = min_max_scaler.inverse_transform(train_predict)\n",
        "test_predict_fin = min_max_scaler.inverse_transform(test_predict)"
      ],
      "execution_count": null,
      "outputs": []
    },
    {
      "cell_type": "code",
      "metadata": {
        "id": "WGD92zEhF3Nv"
      },
      "source": [
        "# prediction_copies_train = np.repeat(train_predict, df_for_training.shape[1], axis=1)\n",
        "# train_predict= scaler.inverse_transform(prediction_copies_train)[:,0]"
      ],
      "execution_count": null,
      "outputs": []
    },
    {
      "cell_type": "code",
      "metadata": {
        "id": "CxNrDT-xHNpk",
        "colab": {
          "base_uri": "https://localhost:8080/"
        },
        "outputId": "683cfae6-5857-4a54-ff39-464ce571b80e"
      },
      "source": [
        "train_predict_fin.shape"
      ],
      "execution_count": null,
      "outputs": [
        {
          "output_type": "execute_result",
          "data": {
            "text/plain": [
              "(60, 1)"
            ]
          },
          "metadata": {},
          "execution_count": 39
        }
      ]
    },
    {
      "cell_type": "code",
      "metadata": {
        "id": "KdccIzmFIhtz"
      },
      "source": [
        "# prediction_copies_test = np.repeat(test_predict, df_for_training.shape[1], axis=-1)\n",
        "# test_predict= scaler.inverse_transform(prediction_copies_test)[:,0]"
      ],
      "execution_count": null,
      "outputs": []
    },
    {
      "cell_type": "code",
      "metadata": {
        "id": "nf3WnQ5TI2DB",
        "colab": {
          "base_uri": "https://localhost:8080/"
        },
        "outputId": "0e9998bf-9ebd-46b2-bc04-e6961c794961"
      },
      "source": [
        "test_predict_fin"
      ],
      "execution_count": null,
      "outputs": [
        {
          "output_type": "execute_result",
          "data": {
            "text/plain": [
              "array([[18.31728 ],\n",
              "       [18.612131],\n",
              "       [19.497108],\n",
              "       [20.149311],\n",
              "       [19.274363],\n",
              "       [18.765732],\n",
              "       [18.661385],\n",
              "       [19.2998  ],\n",
              "       [19.147255],\n",
              "       [18.212872],\n",
              "       [17.874449],\n",
              "       [18.2848  ],\n",
              "       [18.98675 ]], dtype=float32)"
            ]
          },
          "metadata": {},
          "execution_count": 41
        }
      ]
    },
    {
      "cell_type": "code",
      "metadata": {
        "id": "pQiL-0D2UpiH",
        "colab": {
          "base_uri": "https://localhost:8080/"
        },
        "outputId": "9c482178-8193-41ab-eba7-b60b035b0e10"
      },
      "source": [
        "import math\n",
        "from sklearn.metrics import mean_squared_error, r2_score, mean_absolute_error\n",
        "print(np.sqrt(mean_squared_error(trainY,train_predict_fin)))\n",
        "x= np.squeeze(trainY)\n",
        "x.shape\n",
        "y=np.squeeze(train_predict_fin)\n",
        "y.shape\n",
        "mymodel = np.poly1d(np.polyfit(x, y, 10))\n",
        "print(r2_score(y, mymodel(x)))"
      ],
      "execution_count": null,
      "outputs": [
        {
          "output_type": "stream",
          "name": "stdout",
          "text": [
            "18.505105876609445\n",
            "0.25289396511313544\n"
          ]
        }
      ]
    },
    {
      "cell_type": "code",
      "metadata": {
        "id": "iS8k7SB8VqtY",
        "colab": {
          "base_uri": "https://localhost:8080/"
        },
        "outputId": "7d168871-38ec-4b12-97bb-91ccf655ae43"
      },
      "source": [
        "print((mean_absolute_error(testY,test_predict_fin)))\n",
        "print(math.sqrt(mean_squared_error(testY,test_predict_fin)))\n",
        "x= np.squeeze(testY)\n",
        "x.shape\n",
        "y=np.squeeze(test_predict_fin)\n",
        "y.shape\n",
        "mymodel = np.poly1d(np.polyfit(x, y, 10))\n",
        "print(r2_score(y, mymodel(x)))\n"
      ],
      "execution_count": null,
      "outputs": [
        {
          "output_type": "stream",
          "name": "stdout",
          "text": [
            "18.3589703777318\n",
            "18.368567422015175\n",
            "0.9877056574606208\n"
          ]
        }
      ]
    },
    {
      "cell_type": "code",
      "source": [
        "  print('root_mean_squared error of is==',np.sqrt(mean_squared_error(testY,test_predict_fin)))"
      ],
      "metadata": {
        "colab": {
          "base_uri": "https://localhost:8080/"
        },
        "id": "gSDbogxCAuN2",
        "outputId": "372efebb-935d-4567-89dc-61c402900edc"
      },
      "execution_count": null,
      "outputs": [
        {
          "output_type": "stream",
          "name": "stdout",
          "text": [
            "root_mean_squared error of is== 18.368567422015175\n"
          ]
        }
      ]
    },
    {
      "cell_type": "code",
      "metadata": {
        "id": "Ejw6OjIa81fh",
        "colab": {
          "base_uri": "https://localhost:8080/",
          "height": 699
        },
        "outputId": "30458b25-04c0-4a8f-98c7-f064a92eecc7"
      },
      "source": [
        "plt.figure(figsize=(10,8))\n",
        "combined_original = np.concatenate((min_max_scaler.inverse_transform(trainY),min_max_scaler.inverse_transform(testY)))\n",
        "combined_original = pd.DataFrame(combined_original)\n",
        "plt.plot(combined_original.iloc[:61], label=\"Train original\")\n",
        "plt.plot(combined_original.iloc[60:], label=\"Test original\")\n",
        "plt.title(\"Features = ['CM', 'CA', 'Vm','FC','CC','CH','CS','CN','CO','qHe']\")\n",
        "plt.legend()\n",
        "plt.savefig(\"Model1 Original.png\")"
      ],
      "execution_count": null,
      "outputs": [
        {
          "output_type": "display_data",
          "data": {
            "text/plain": [
              "<Figure size 1000x800 with 1 Axes>"
            ],
            "image/png": "[encoded data removed]"
          },
          "metadata": {}
        }
      ]
    },
    {
      "cell_type": "code",
      "metadata": {
        "id": "-phO_NoJ88Rd"
      },
      "source": [
        "# Y_train, Y_test, Y_train_pred, Y_test_pred\n",
        "# trainY.shape -> 60, 1 (0.3008596, [0.66246418])\n",
        "# testY.shape -> 9, 1 (0.08006279, 0)"
      ],
      "execution_count": null,
      "outputs": []
    },
    {
      "cell_type": "code",
      "metadata": {
        "id": "MhCe5iHKCrPo",
        "colab": {
          "base_uri": "https://localhost:8080/",
          "height": 699
        },
        "outputId": "995fb0ed-86c9-4111-a9cd-bf2aac4680b7"
      },
      "source": [
        "plt.figure(figsize=(10,8))\n",
        "combined_predicted = np.concatenate((train_predict_fin,test_predict_fin))\n",
        "combined_predicted = pd.DataFrame(combined_predicted)\n",
        "plt.plot(combined_predicted.iloc[:61], label=\"Train predicted\")\n",
        "plt.plot(combined_predicted.iloc[60:], label=\"Test predicted\")\n",
        "plt.title(\"Features = ['CM', 'CA', 'Vm','FC','CC','CH','CS','CN','CO','qHe']\")\n",
        "plt.legend()\n",
        "plt.savefig(\"Model1 Predicted.png\")"
      ],
      "execution_count": null,
      "outputs": [
        {
          "output_type": "display_data",
          "data": {
            "text/plain": [
              "<Figure size 1000x800 with 1 Axes>"
            ],
            "image/png": "[encoded data removed]"
          },
          "metadata": {}
        }
      ]
    }
  ]
}